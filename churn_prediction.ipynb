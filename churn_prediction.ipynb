{
  "nbformat": 4,
  "nbformat_minor": 0,
  "metadata": {
    "colab": {
      "name": "churn-prediction.ipynb",
      "provenance": [],
      "collapsed_sections": [],
      "authorship_tag": "ABX9TyPwiHKRWfUv5hMFIrbr8zws",
      "include_colab_link": true
    },
    "kernelspec": {
      "name": "python3",
      "display_name": "Python 3"
    },
    "language_info": {
      "name": "python"
    }
  },
  "cells": [
    {
      "cell_type": "markdown",
      "metadata": {
        "id": "view-in-github",
        "colab_type": "text"
      },
      "source": [
        "<a href=\"https://colab.research.google.com/github/ChristopherCrook/assign03-50-Crook/blob/main/churn_prediction.ipynb\" target=\"_parent\"><img src=\"https://colab.research.google.com/assets/colab-badge.svg\" alt=\"Open In Colab\"/></a>"
      ]
    },
    {
      "cell_type": "code",
      "execution_count": 7,
      "metadata": {
        "id": "64b-Y374JgjT"
      },
      "outputs": [],
      "source": [
        "#tables and visualizations\n",
        "import pandas as pd\n",
        "import numpy as np\n",
        "import seaborn as sns\n",
        "import matplotlib.pyplot as plt\n",
        "\n",
        "#machine learning\n",
        "from sklearn.model_selection import train_test_split, GridSearchCV\n",
        "from sklearn.linear_model import LogisticRegression\n",
        "from sklearn.ensemble import RandomForestClassifier\n",
        "from sklearn.pipeline import Pipeline \n",
        "from sklearn.compose import ColumnTransformer, make_column_selector\n",
        "from sklearn.impute import SimpleImputer\n",
        "from sklearn.preprocessing import OneHotEncoder, LabelBinarizer, StandardScaler, OrdinalEncoder\n",
        "from sklearn import config_context\n",
        "from sklearn.metrics import classification_report, confusion_matrix, ConfusionMatrixDisplay\n",
        "from sklearn import svm\n",
        "from sklearn.model_selection import cross_val_score"
      ]
    },
    {
      "cell_type": "markdown",
      "source": [
        "# Load the Data"
      ],
      "metadata": {
        "id": "d3gt874zJ_rl"
      }
    },
    {
      "cell_type": "code",
      "source": [
        "data = pd.read_excel('https://github.com/ChristopherCrook/assign03-50-Crook/blob/main/IBM-HR-Data-Employee-Attrition.xlsx?raw=true')\n",
        "data.info()"
      ],
      "metadata": {
        "colab": {
          "base_uri": "https://localhost:8080/"
        },
        "id": "3deEpa23KD2K",
        "outputId": "e25b0f23-ae23-4deb-b128-2860cb3908df"
      },
      "execution_count": 4,
      "outputs": [
        {
          "output_type": "stream",
          "name": "stdout",
          "text": [
            "<class 'pandas.core.frame.DataFrame'>\n",
            "RangeIndex: 1470 entries, 0 to 1469\n",
            "Data columns (total 35 columns):\n",
            " #   Column                    Non-Null Count  Dtype \n",
            "---  ------                    --------------  ----- \n",
            " 0   Age                       1470 non-null   int64 \n",
            " 1   Attrition                 1470 non-null   object\n",
            " 2   BusinessTravel            1470 non-null   object\n",
            " 3   DailyRate                 1470 non-null   int64 \n",
            " 4   Department                1470 non-null   object\n",
            " 5   DistanceFromHome          1470 non-null   int64 \n",
            " 6   Education                 1470 non-null   int64 \n",
            " 7   EducationField            1470 non-null   object\n",
            " 8   EmployeeCount             1470 non-null   int64 \n",
            " 9   EmployeeNumber            1470 non-null   int64 \n",
            " 10  EnvironmentSatisfaction   1470 non-null   int64 \n",
            " 11  Gender                    1470 non-null   object\n",
            " 12  HourlyRate                1470 non-null   int64 \n",
            " 13  JobInvolvement            1470 non-null   int64 \n",
            " 14  JobLevel                  1470 non-null   int64 \n",
            " 15  JobRole                   1470 non-null   object\n",
            " 16  JobSatisfaction           1470 non-null   int64 \n",
            " 17  MaritalStatus             1470 non-null   object\n",
            " 18  MonthlyIncome             1470 non-null   int64 \n",
            " 19  MonthlyRate               1470 non-null   int64 \n",
            " 20  NumCompaniesWorked        1470 non-null   int64 \n",
            " 21  Over18                    1470 non-null   object\n",
            " 22  OverTime                  1470 non-null   object\n",
            " 23  PercentSalaryHike         1470 non-null   int64 \n",
            " 24  PerformanceRating         1470 non-null   int64 \n",
            " 25  RelationshipSatisfaction  1470 non-null   int64 \n",
            " 26  StandardHours             1470 non-null   int64 \n",
            " 27  StockOptionLevel          1470 non-null   int64 \n",
            " 28  TotalWorkingYears         1470 non-null   int64 \n",
            " 29  TrainingTimesLastYear     1470 non-null   int64 \n",
            " 30  WorkLifeBalance           1470 non-null   int64 \n",
            " 31  YearsAtCompany            1470 non-null   int64 \n",
            " 32  YearsInCurrentRole        1470 non-null   int64 \n",
            " 33  YearsSinceLastPromotion   1470 non-null   int64 \n",
            " 34  YearsWithCurrManager      1470 non-null   int64 \n",
            "dtypes: int64(26), object(9)\n",
            "memory usage: 402.1+ KB\n"
          ]
        }
      ]
    },
    {
      "cell_type": "markdown",
      "source": [
        "# Split the Data"
      ],
      "metadata": {
        "id": "lRljUs-GLUmT"
      }
    },
    {
      "cell_type": "code",
      "source": [
        "random_seed = 6234\n",
        "train, test = train_test_split(data, test_size=.2, random_state=random_seed)\n",
        "\n",
        "## Do a quick shape test\n",
        "print(\"Train: \", train.shape)\n",
        "print(\"Test: \", test.shape)"
      ],
      "metadata": {
        "id": "ndNicTDBLaOe",
        "colab": {
          "base_uri": "https://localhost:8080/"
        },
        "outputId": "79dcbbdc-e22f-4cc5-a861-423ad389bf2a"
      },
      "execution_count": 5,
      "outputs": [
        {
          "output_type": "stream",
          "name": "stdout",
          "text": [
            "Train:  (1176, 35)\n",
            "Test:  (294, 35)\n"
          ]
        }
      ]
    },
    {
      "cell_type": "code",
      "source": [
        "#individual pipelines for differing datatypes\n",
        "category_pipe = Pipeline(steps=[('cat_impute', SimpleImputer(missing_values=np.nan, strategy='most_frequent')),\n",
        "                               ('onehot_cat', OneHotEncoder(drop='if_binary'))])\n",
        "\n",
        "numeric_pipe = Pipeline(steps=[('impute_num', SimpleImputer(missing_values=np.nan, strategy='mean')),\n",
        "                               ('scale_num', StandardScaler())])\n",
        "\n",
        "#establish preprocessing pipeline by columns\n",
        "preproc = ColumnTransformer([('categoric_pipe', category_pipe, make_column_selector(dtype_include=object)),\n",
        "                             ('numeric_pipe', numeric_pipe, make_column_selector(dtype_include=np.number))],\n",
        "                             remainder='passthrough')\n",
        "\n",
        "#generate the whole modeling pipeline with preprocessing\n",
        "pipe = Pipeline(steps=[('preproc', preproc),\n",
        "                       ('mdl', RandomForestClassifier())])\n",
        "\n",
        "#visualization for steps\n",
        "with config_context(display='diagram'):\n",
        "    display(pipe)\n",
        "\n",
        "tuning_grid = {'mdl__n_estimators' : [100, 200 ,500],\n",
        "               'mdl__max_depth': [10, 15, 20] }\n",
        "grid_search = GridSearchCV(pipe, param_grid = tuning_grid, cv = 5, return_train_score=True)\n",
        "\n",
        "tuning_grid\n",
        "\n",
        "grid_search.fit(train)\n",
        "                \n",
        "print(grid_search.best_score_)\n",
        "grid_search.best_params_\n",
        "\n",
        "pd.DataFrame(grid_search.cv_results_)\n"
      ],
      "metadata": {
        "colab": {
          "base_uri": "https://localhost:8080/",
          "height": 1000
        },
        "id": "XvDawgoktIFY",
        "outputId": "29dc080a-208a-44b9-8da1-dc035d2b0b7e"
      },
      "execution_count": 12,
      "outputs": [
        {
          "output_type": "display_data",
          "data": {
            "text/plain": [
              "Pipeline(steps=[('preproc',\n",
              "                 ColumnTransformer(remainder='passthrough',\n",
              "                                   transformers=[('categoric_pipe',\n",
              "                                                  Pipeline(steps=[('cat_impute',\n",
              "                                                                   SimpleImputer(strategy='most_frequent')),\n",
              "                                                                  ('onehot_cat',\n",
              "                                                                   OneHotEncoder(drop='if_binary'))]),\n",
              "                                                  <sklearn.compose._column_transformer.make_column_selector object at 0x7feb10646050>),\n",
              "                                                 ('numeric_pipe',\n",
              "                                                  Pipeline(steps=[('impute_num',\n",
              "                                                                   SimpleImputer()),\n",
              "                                                                  ('scale_num',\n",
              "                                                                   StandardScaler())]),\n",
              "                                                  <sklearn.compose._column_transformer.make_column_selector object at 0x7feb10646810>)])),\n",
              "                ('mdl', RandomForestClassifier())])"
            ],
            "text/html": [
              "<style>#sk-e11ec9cc-8374-4683-9484-d744283fe8e5 {color: black;background-color: white;}#sk-e11ec9cc-8374-4683-9484-d744283fe8e5 pre{padding: 0;}#sk-e11ec9cc-8374-4683-9484-d744283fe8e5 div.sk-toggleable {background-color: white;}#sk-e11ec9cc-8374-4683-9484-d744283fe8e5 label.sk-toggleable__label {cursor: pointer;display: block;width: 100%;margin-bottom: 0;padding: 0.3em;box-sizing: border-box;text-align: center;}#sk-e11ec9cc-8374-4683-9484-d744283fe8e5 label.sk-toggleable__label-arrow:before {content: \"▸\";float: left;margin-right: 0.25em;color: #696969;}#sk-e11ec9cc-8374-4683-9484-d744283fe8e5 label.sk-toggleable__label-arrow:hover:before {color: black;}#sk-e11ec9cc-8374-4683-9484-d744283fe8e5 div.sk-estimator:hover label.sk-toggleable__label-arrow:before {color: black;}#sk-e11ec9cc-8374-4683-9484-d744283fe8e5 div.sk-toggleable__content {max-height: 0;max-width: 0;overflow: hidden;text-align: left;background-color: #f0f8ff;}#sk-e11ec9cc-8374-4683-9484-d744283fe8e5 div.sk-toggleable__content pre {margin: 0.2em;color: black;border-radius: 0.25em;background-color: #f0f8ff;}#sk-e11ec9cc-8374-4683-9484-d744283fe8e5 input.sk-toggleable__control:checked~div.sk-toggleable__content {max-height: 200px;max-width: 100%;overflow: auto;}#sk-e11ec9cc-8374-4683-9484-d744283fe8e5 input.sk-toggleable__control:checked~label.sk-toggleable__label-arrow:before {content: \"▾\";}#sk-e11ec9cc-8374-4683-9484-d744283fe8e5 div.sk-estimator input.sk-toggleable__control:checked~label.sk-toggleable__label {background-color: #d4ebff;}#sk-e11ec9cc-8374-4683-9484-d744283fe8e5 div.sk-label input.sk-toggleable__control:checked~label.sk-toggleable__label {background-color: #d4ebff;}#sk-e11ec9cc-8374-4683-9484-d744283fe8e5 input.sk-hidden--visually {border: 0;clip: rect(1px 1px 1px 1px);clip: rect(1px, 1px, 1px, 1px);height: 1px;margin: -1px;overflow: hidden;padding: 0;position: absolute;width: 1px;}#sk-e11ec9cc-8374-4683-9484-d744283fe8e5 div.sk-estimator {font-family: monospace;background-color: #f0f8ff;border: 1px dotted black;border-radius: 0.25em;box-sizing: border-box;margin-bottom: 0.5em;}#sk-e11ec9cc-8374-4683-9484-d744283fe8e5 div.sk-estimator:hover {background-color: #d4ebff;}#sk-e11ec9cc-8374-4683-9484-d744283fe8e5 div.sk-parallel-item::after {content: \"\";width: 100%;border-bottom: 1px solid gray;flex-grow: 1;}#sk-e11ec9cc-8374-4683-9484-d744283fe8e5 div.sk-label:hover label.sk-toggleable__label {background-color: #d4ebff;}#sk-e11ec9cc-8374-4683-9484-d744283fe8e5 div.sk-serial::before {content: \"\";position: absolute;border-left: 1px solid gray;box-sizing: border-box;top: 2em;bottom: 0;left: 50%;}#sk-e11ec9cc-8374-4683-9484-d744283fe8e5 div.sk-serial {display: flex;flex-direction: column;align-items: center;background-color: white;padding-right: 0.2em;padding-left: 0.2em;}#sk-e11ec9cc-8374-4683-9484-d744283fe8e5 div.sk-item {z-index: 1;}#sk-e11ec9cc-8374-4683-9484-d744283fe8e5 div.sk-parallel {display: flex;align-items: stretch;justify-content: center;background-color: white;}#sk-e11ec9cc-8374-4683-9484-d744283fe8e5 div.sk-parallel::before {content: \"\";position: absolute;border-left: 1px solid gray;box-sizing: border-box;top: 2em;bottom: 0;left: 50%;}#sk-e11ec9cc-8374-4683-9484-d744283fe8e5 div.sk-parallel-item {display: flex;flex-direction: column;position: relative;background-color: white;}#sk-e11ec9cc-8374-4683-9484-d744283fe8e5 div.sk-parallel-item:first-child::after {align-self: flex-end;width: 50%;}#sk-e11ec9cc-8374-4683-9484-d744283fe8e5 div.sk-parallel-item:last-child::after {align-self: flex-start;width: 50%;}#sk-e11ec9cc-8374-4683-9484-d744283fe8e5 div.sk-parallel-item:only-child::after {width: 0;}#sk-e11ec9cc-8374-4683-9484-d744283fe8e5 div.sk-dashed-wrapped {border: 1px dashed gray;margin: 0 0.4em 0.5em 0.4em;box-sizing: border-box;padding-bottom: 0.4em;background-color: white;position: relative;}#sk-e11ec9cc-8374-4683-9484-d744283fe8e5 div.sk-label label {font-family: monospace;font-weight: bold;background-color: white;display: inline-block;line-height: 1.2em;}#sk-e11ec9cc-8374-4683-9484-d744283fe8e5 div.sk-label-container {position: relative;z-index: 2;text-align: center;}#sk-e11ec9cc-8374-4683-9484-d744283fe8e5 div.sk-container {/* jupyter's `normalize.less` sets `[hidden] { display: none; }` but bootstrap.min.css set `[hidden] { display: none !important; }` so we also need the `!important` here to be able to override the default hidden behavior on the sphinx rendered scikit-learn.org. See: https://github.com/scikit-learn/scikit-learn/issues/21755 */display: inline-block !important;position: relative;}#sk-e11ec9cc-8374-4683-9484-d744283fe8e5 div.sk-text-repr-fallback {display: none;}</style><div id=\"sk-e11ec9cc-8374-4683-9484-d744283fe8e5\" class=\"sk-top-container\"><div class=\"sk-text-repr-fallback\"><pre>Pipeline(steps=[(&#x27;preproc&#x27;,\n",
              "                 ColumnTransformer(remainder=&#x27;passthrough&#x27;,\n",
              "                                   transformers=[(&#x27;categoric_pipe&#x27;,\n",
              "                                                  Pipeline(steps=[(&#x27;cat_impute&#x27;,\n",
              "                                                                   SimpleImputer(strategy=&#x27;most_frequent&#x27;)),\n",
              "                                                                  (&#x27;onehot_cat&#x27;,\n",
              "                                                                   OneHotEncoder(drop=&#x27;if_binary&#x27;))]),\n",
              "                                                  &lt;sklearn.compose._column_transformer.make_column_selector object at 0x7feb10646050&gt;),\n",
              "                                                 (&#x27;numeric_pipe&#x27;,\n",
              "                                                  Pipeline(steps=[(&#x27;impute_num&#x27;,\n",
              "                                                                   SimpleImputer()),\n",
              "                                                                  (&#x27;scale_num&#x27;,\n",
              "                                                                   StandardScaler())]),\n",
              "                                                  &lt;sklearn.compose._column_transformer.make_column_selector object at 0x7feb10646810&gt;)])),\n",
              "                (&#x27;mdl&#x27;, RandomForestClassifier())])</pre><b>Please rerun this cell to show the HTML repr or trust the notebook.</b></div><div class=\"sk-container\" hidden><div class=\"sk-item sk-dashed-wrapped\"><div class=\"sk-label-container\"><div class=\"sk-label sk-toggleable\"><input class=\"sk-toggleable__control sk-hidden--visually\" id=\"8d3a963a-b54b-4ebf-9b22-84ae3dc4bf53\" type=\"checkbox\" ><label for=\"8d3a963a-b54b-4ebf-9b22-84ae3dc4bf53\" class=\"sk-toggleable__label sk-toggleable__label-arrow\">Pipeline</label><div class=\"sk-toggleable__content\"><pre>Pipeline(steps=[(&#x27;preproc&#x27;,\n",
              "                 ColumnTransformer(remainder=&#x27;passthrough&#x27;,\n",
              "                                   transformers=[(&#x27;categoric_pipe&#x27;,\n",
              "                                                  Pipeline(steps=[(&#x27;cat_impute&#x27;,\n",
              "                                                                   SimpleImputer(strategy=&#x27;most_frequent&#x27;)),\n",
              "                                                                  (&#x27;onehot_cat&#x27;,\n",
              "                                                                   OneHotEncoder(drop=&#x27;if_binary&#x27;))]),\n",
              "                                                  &lt;sklearn.compose._column_transformer.make_column_selector object at 0x7feb10646050&gt;),\n",
              "                                                 (&#x27;numeric_pipe&#x27;,\n",
              "                                                  Pipeline(steps=[(&#x27;impute_num&#x27;,\n",
              "                                                                   SimpleImputer()),\n",
              "                                                                  (&#x27;scale_num&#x27;,\n",
              "                                                                   StandardScaler())]),\n",
              "                                                  &lt;sklearn.compose._column_transformer.make_column_selector object at 0x7feb10646810&gt;)])),\n",
              "                (&#x27;mdl&#x27;, RandomForestClassifier())])</pre></div></div></div><div class=\"sk-serial\"><div class=\"sk-item sk-dashed-wrapped\"><div class=\"sk-label-container\"><div class=\"sk-label sk-toggleable\"><input class=\"sk-toggleable__control sk-hidden--visually\" id=\"e17eeb5d-1b40-492b-b2c4-eb3a3e3aee66\" type=\"checkbox\" ><label for=\"e17eeb5d-1b40-492b-b2c4-eb3a3e3aee66\" class=\"sk-toggleable__label sk-toggleable__label-arrow\">preproc: ColumnTransformer</label><div class=\"sk-toggleable__content\"><pre>ColumnTransformer(remainder=&#x27;passthrough&#x27;,\n",
              "                  transformers=[(&#x27;categoric_pipe&#x27;,\n",
              "                                 Pipeline(steps=[(&#x27;cat_impute&#x27;,\n",
              "                                                  SimpleImputer(strategy=&#x27;most_frequent&#x27;)),\n",
              "                                                 (&#x27;onehot_cat&#x27;,\n",
              "                                                  OneHotEncoder(drop=&#x27;if_binary&#x27;))]),\n",
              "                                 &lt;sklearn.compose._column_transformer.make_column_selector object at 0x7feb10646050&gt;),\n",
              "                                (&#x27;numeric_pipe&#x27;,\n",
              "                                 Pipeline(steps=[(&#x27;impute_num&#x27;,\n",
              "                                                  SimpleImputer()),\n",
              "                                                 (&#x27;scale_num&#x27;,\n",
              "                                                  StandardScaler())]),\n",
              "                                 &lt;sklearn.compose._column_transformer.make_column_selector object at 0x7feb10646810&gt;)])</pre></div></div></div><div class=\"sk-parallel\"><div class=\"sk-parallel-item\"><div class=\"sk-item\"><div class=\"sk-label-container\"><div class=\"sk-label sk-toggleable\"><input class=\"sk-toggleable__control sk-hidden--visually\" id=\"673fd989-d7bd-45b9-9e05-fe1bbf008859\" type=\"checkbox\" ><label for=\"673fd989-d7bd-45b9-9e05-fe1bbf008859\" class=\"sk-toggleable__label sk-toggleable__label-arrow\">categoric_pipe</label><div class=\"sk-toggleable__content\"><pre>&lt;sklearn.compose._column_transformer.make_column_selector object at 0x7feb10646050&gt;</pre></div></div></div><div class=\"sk-serial\"><div class=\"sk-item\"><div class=\"sk-serial\"><div class=\"sk-item\"><div class=\"sk-estimator sk-toggleable\"><input class=\"sk-toggleable__control sk-hidden--visually\" id=\"36f666a2-695f-46c1-85f3-6a57480305ba\" type=\"checkbox\" ><label for=\"36f666a2-695f-46c1-85f3-6a57480305ba\" class=\"sk-toggleable__label sk-toggleable__label-arrow\">SimpleImputer</label><div class=\"sk-toggleable__content\"><pre>SimpleImputer(strategy=&#x27;most_frequent&#x27;)</pre></div></div></div><div class=\"sk-item\"><div class=\"sk-estimator sk-toggleable\"><input class=\"sk-toggleable__control sk-hidden--visually\" id=\"330673d4-72fd-4b69-963a-862594a50343\" type=\"checkbox\" ><label for=\"330673d4-72fd-4b69-963a-862594a50343\" class=\"sk-toggleable__label sk-toggleable__label-arrow\">OneHotEncoder</label><div class=\"sk-toggleable__content\"><pre>OneHotEncoder(drop=&#x27;if_binary&#x27;)</pre></div></div></div></div></div></div></div></div><div class=\"sk-parallel-item\"><div class=\"sk-item\"><div class=\"sk-label-container\"><div class=\"sk-label sk-toggleable\"><input class=\"sk-toggleable__control sk-hidden--visually\" id=\"ecc201d5-0e1c-4d8c-82ab-63af240ee1f9\" type=\"checkbox\" ><label for=\"ecc201d5-0e1c-4d8c-82ab-63af240ee1f9\" class=\"sk-toggleable__label sk-toggleable__label-arrow\">numeric_pipe</label><div class=\"sk-toggleable__content\"><pre>&lt;sklearn.compose._column_transformer.make_column_selector object at 0x7feb10646810&gt;</pre></div></div></div><div class=\"sk-serial\"><div class=\"sk-item\"><div class=\"sk-serial\"><div class=\"sk-item\"><div class=\"sk-estimator sk-toggleable\"><input class=\"sk-toggleable__control sk-hidden--visually\" id=\"8933d1da-54a0-4156-ae9e-6e396908daa3\" type=\"checkbox\" ><label for=\"8933d1da-54a0-4156-ae9e-6e396908daa3\" class=\"sk-toggleable__label sk-toggleable__label-arrow\">SimpleImputer</label><div class=\"sk-toggleable__content\"><pre>SimpleImputer()</pre></div></div></div><div class=\"sk-item\"><div class=\"sk-estimator sk-toggleable\"><input class=\"sk-toggleable__control sk-hidden--visually\" id=\"87c2849f-0cfb-470a-b0ec-8795f4947be0\" type=\"checkbox\" ><label for=\"87c2849f-0cfb-470a-b0ec-8795f4947be0\" class=\"sk-toggleable__label sk-toggleable__label-arrow\">StandardScaler</label><div class=\"sk-toggleable__content\"><pre>StandardScaler()</pre></div></div></div></div></div></div></div></div><div class=\"sk-parallel-item\"><div class=\"sk-item\"><div class=\"sk-label-container\"><div class=\"sk-label sk-toggleable\"><input class=\"sk-toggleable__control sk-hidden--visually\" id=\"8d0bb33c-1e48-4cab-85e6-5b9b184e2501\" type=\"checkbox\" ><label for=\"8d0bb33c-1e48-4cab-85e6-5b9b184e2501\" class=\"sk-toggleable__label sk-toggleable__label-arrow\">remainder</label><div class=\"sk-toggleable__content\"><pre></pre></div></div></div><div class=\"sk-serial\"><div class=\"sk-item\"><div class=\"sk-estimator sk-toggleable\"><input class=\"sk-toggleable__control sk-hidden--visually\" id=\"e8c3ce40-8ee2-426f-b0c9-b6042da2de24\" type=\"checkbox\" ><label for=\"e8c3ce40-8ee2-426f-b0c9-b6042da2de24\" class=\"sk-toggleable__label sk-toggleable__label-arrow\">passthrough</label><div class=\"sk-toggleable__content\"><pre>passthrough</pre></div></div></div></div></div></div></div></div><div class=\"sk-item\"><div class=\"sk-estimator sk-toggleable\"><input class=\"sk-toggleable__control sk-hidden--visually\" id=\"1fad2bae-0b25-4af2-ba0d-171b66adfa8c\" type=\"checkbox\" ><label for=\"1fad2bae-0b25-4af2-ba0d-171b66adfa8c\" class=\"sk-toggleable__label sk-toggleable__label-arrow\">RandomForestClassifier</label><div class=\"sk-toggleable__content\"><pre>RandomForestClassifier()</pre></div></div></div></div></div></div></div>"
            ]
          },
          "metadata": {}
        },
        {
          "output_type": "stream",
          "name": "stderr",
          "text": [
            "/usr/local/lib/python3.7/dist-packages/sklearn/model_selection/_validation.py:372: FitFailedWarning: \n",
            "45 fits failed out of a total of 45.\n",
            "The score on these train-test partitions for these parameters will be set to nan.\n",
            "If these failures are not expected, you can try to debug them by setting error_score='raise'.\n",
            "\n",
            "Below are more details about the failures:\n",
            "--------------------------------------------------------------------------------\n",
            "45 fits failed with the following error:\n",
            "Traceback (most recent call last):\n",
            "  File \"/usr/local/lib/python3.7/dist-packages/sklearn/model_selection/_validation.py\", line 678, in _fit_and_score\n",
            "    estimator.fit(X_train, **fit_params)\n",
            "  File \"/usr/local/lib/python3.7/dist-packages/sklearn/pipeline.py\", line 394, in fit\n",
            "    self._final_estimator.fit(Xt, y, **fit_params_last_step)\n",
            "  File \"/usr/local/lib/python3.7/dist-packages/sklearn/ensemble/_forest.py\", line 328, in fit\n",
            "    X, y, multi_output=True, accept_sparse=\"csc\", dtype=DTYPE\n",
            "  File \"/usr/local/lib/python3.7/dist-packages/sklearn/base.py\", line 556, in _validate_data\n",
            "    f\"This {self.__class__.__name__} estimator \"\n",
            "ValueError: This RandomForestClassifier estimator requires y to be passed, but the target y is None.\n",
            "\n",
            "  warnings.warn(some_fits_failed_message, FitFailedWarning)\n",
            "/usr/local/lib/python3.7/dist-packages/sklearn/model_selection/_search.py:972: UserWarning: One or more of the test scores are non-finite: [nan nan nan nan nan nan nan nan nan]\n",
            "  category=UserWarning,\n",
            "/usr/local/lib/python3.7/dist-packages/sklearn/model_selection/_search.py:972: UserWarning: One or more of the train scores are non-finite: [nan nan nan nan nan nan nan nan nan]\n",
            "  category=UserWarning,\n"
          ]
        },
        {
          "output_type": "error",
          "ename": "ValueError",
          "evalue": "ignored",
          "traceback": [
            "\u001b[0;31m---------------------------------------------------------------------------\u001b[0m",
            "\u001b[0;31mValueError\u001b[0m                                Traceback (most recent call last)",
            "\u001b[0;32m<ipython-input-12-aa194cc99391>\u001b[0m in \u001b[0;36m<module>\u001b[0;34m()\u001b[0m\n\u001b[1;32m     25\u001b[0m \u001b[0mtuning_grid\u001b[0m\u001b[0;34m\u001b[0m\u001b[0;34m\u001b[0m\u001b[0m\n\u001b[1;32m     26\u001b[0m \u001b[0;34m\u001b[0m\u001b[0m\n\u001b[0;32m---> 27\u001b[0;31m \u001b[0mgrid_search\u001b[0m\u001b[0;34m.\u001b[0m\u001b[0mfit\u001b[0m\u001b[0;34m(\u001b[0m\u001b[0mtrain\u001b[0m\u001b[0;34m)\u001b[0m\u001b[0;34m\u001b[0m\u001b[0;34m\u001b[0m\u001b[0m\n\u001b[0m\u001b[1;32m     28\u001b[0m \u001b[0;34m\u001b[0m\u001b[0m\n\u001b[1;32m     29\u001b[0m \u001b[0mprint\u001b[0m\u001b[0;34m(\u001b[0m\u001b[0mgrid_search\u001b[0m\u001b[0;34m.\u001b[0m\u001b[0mbest_score_\u001b[0m\u001b[0;34m)\u001b[0m\u001b[0;34m\u001b[0m\u001b[0;34m\u001b[0m\u001b[0m\n",
            "\u001b[0;32m/usr/local/lib/python3.7/dist-packages/sklearn/model_selection/_search.py\u001b[0m in \u001b[0;36mfit\u001b[0;34m(self, X, y, groups, **fit_params)\u001b[0m\n\u001b[1;32m    926\u001b[0m                 \u001b[0mself\u001b[0m\u001b[0;34m.\u001b[0m\u001b[0mbest_estimator_\u001b[0m\u001b[0;34m.\u001b[0m\u001b[0mfit\u001b[0m\u001b[0;34m(\u001b[0m\u001b[0mX\u001b[0m\u001b[0;34m,\u001b[0m \u001b[0my\u001b[0m\u001b[0;34m,\u001b[0m \u001b[0;34m**\u001b[0m\u001b[0mfit_params\u001b[0m\u001b[0;34m)\u001b[0m\u001b[0;34m\u001b[0m\u001b[0;34m\u001b[0m\u001b[0m\n\u001b[1;32m    927\u001b[0m             \u001b[0;32melse\u001b[0m\u001b[0;34m:\u001b[0m\u001b[0;34m\u001b[0m\u001b[0;34m\u001b[0m\u001b[0m\n\u001b[0;32m--> 928\u001b[0;31m                 \u001b[0mself\u001b[0m\u001b[0;34m.\u001b[0m\u001b[0mbest_estimator_\u001b[0m\u001b[0;34m.\u001b[0m\u001b[0mfit\u001b[0m\u001b[0;34m(\u001b[0m\u001b[0mX\u001b[0m\u001b[0;34m,\u001b[0m \u001b[0;34m**\u001b[0m\u001b[0mfit_params\u001b[0m\u001b[0;34m)\u001b[0m\u001b[0;34m\u001b[0m\u001b[0;34m\u001b[0m\u001b[0m\n\u001b[0m\u001b[1;32m    929\u001b[0m             \u001b[0mrefit_end_time\u001b[0m \u001b[0;34m=\u001b[0m \u001b[0mtime\u001b[0m\u001b[0;34m.\u001b[0m\u001b[0mtime\u001b[0m\u001b[0;34m(\u001b[0m\u001b[0;34m)\u001b[0m\u001b[0;34m\u001b[0m\u001b[0;34m\u001b[0m\u001b[0m\n\u001b[1;32m    930\u001b[0m             \u001b[0mself\u001b[0m\u001b[0;34m.\u001b[0m\u001b[0mrefit_time_\u001b[0m \u001b[0;34m=\u001b[0m \u001b[0mrefit_end_time\u001b[0m \u001b[0;34m-\u001b[0m \u001b[0mrefit_start_time\u001b[0m\u001b[0;34m\u001b[0m\u001b[0;34m\u001b[0m\u001b[0m\n",
            "\u001b[0;32m/usr/local/lib/python3.7/dist-packages/sklearn/pipeline.py\u001b[0m in \u001b[0;36mfit\u001b[0;34m(self, X, y, **fit_params)\u001b[0m\n\u001b[1;32m    392\u001b[0m             \u001b[0;32mif\u001b[0m \u001b[0mself\u001b[0m\u001b[0;34m.\u001b[0m\u001b[0m_final_estimator\u001b[0m \u001b[0;34m!=\u001b[0m \u001b[0;34m\"passthrough\"\u001b[0m\u001b[0;34m:\u001b[0m\u001b[0;34m\u001b[0m\u001b[0;34m\u001b[0m\u001b[0m\n\u001b[1;32m    393\u001b[0m                 \u001b[0mfit_params_last_step\u001b[0m \u001b[0;34m=\u001b[0m \u001b[0mfit_params_steps\u001b[0m\u001b[0;34m[\u001b[0m\u001b[0mself\u001b[0m\u001b[0;34m.\u001b[0m\u001b[0msteps\u001b[0m\u001b[0;34m[\u001b[0m\u001b[0;34m-\u001b[0m\u001b[0;36m1\u001b[0m\u001b[0;34m]\u001b[0m\u001b[0;34m[\u001b[0m\u001b[0;36m0\u001b[0m\u001b[0;34m]\u001b[0m\u001b[0;34m]\u001b[0m\u001b[0;34m\u001b[0m\u001b[0;34m\u001b[0m\u001b[0m\n\u001b[0;32m--> 394\u001b[0;31m                 \u001b[0mself\u001b[0m\u001b[0;34m.\u001b[0m\u001b[0m_final_estimator\u001b[0m\u001b[0;34m.\u001b[0m\u001b[0mfit\u001b[0m\u001b[0;34m(\u001b[0m\u001b[0mXt\u001b[0m\u001b[0;34m,\u001b[0m \u001b[0my\u001b[0m\u001b[0;34m,\u001b[0m \u001b[0;34m**\u001b[0m\u001b[0mfit_params_last_step\u001b[0m\u001b[0;34m)\u001b[0m\u001b[0;34m\u001b[0m\u001b[0;34m\u001b[0m\u001b[0m\n\u001b[0m\u001b[1;32m    395\u001b[0m \u001b[0;34m\u001b[0m\u001b[0m\n\u001b[1;32m    396\u001b[0m         \u001b[0;32mreturn\u001b[0m \u001b[0mself\u001b[0m\u001b[0;34m\u001b[0m\u001b[0;34m\u001b[0m\u001b[0m\n",
            "\u001b[0;32m/usr/local/lib/python3.7/dist-packages/sklearn/ensemble/_forest.py\u001b[0m in \u001b[0;36mfit\u001b[0;34m(self, X, y, sample_weight)\u001b[0m\n\u001b[1;32m    326\u001b[0m             \u001b[0;32mraise\u001b[0m \u001b[0mValueError\u001b[0m\u001b[0;34m(\u001b[0m\u001b[0;34m\"sparse multilabel-indicator for y is not supported.\"\u001b[0m\u001b[0;34m)\u001b[0m\u001b[0;34m\u001b[0m\u001b[0;34m\u001b[0m\u001b[0m\n\u001b[1;32m    327\u001b[0m         X, y = self._validate_data(\n\u001b[0;32m--> 328\u001b[0;31m             \u001b[0mX\u001b[0m\u001b[0;34m,\u001b[0m \u001b[0my\u001b[0m\u001b[0;34m,\u001b[0m \u001b[0mmulti_output\u001b[0m\u001b[0;34m=\u001b[0m\u001b[0;32mTrue\u001b[0m\u001b[0;34m,\u001b[0m \u001b[0maccept_sparse\u001b[0m\u001b[0;34m=\u001b[0m\u001b[0;34m\"csc\"\u001b[0m\u001b[0;34m,\u001b[0m \u001b[0mdtype\u001b[0m\u001b[0;34m=\u001b[0m\u001b[0mDTYPE\u001b[0m\u001b[0;34m\u001b[0m\u001b[0;34m\u001b[0m\u001b[0m\n\u001b[0m\u001b[1;32m    329\u001b[0m         )\n\u001b[1;32m    330\u001b[0m         \u001b[0;32mif\u001b[0m \u001b[0msample_weight\u001b[0m \u001b[0;32mis\u001b[0m \u001b[0;32mnot\u001b[0m \u001b[0;32mNone\u001b[0m\u001b[0;34m:\u001b[0m\u001b[0;34m\u001b[0m\u001b[0;34m\u001b[0m\u001b[0m\n",
            "\u001b[0;32m/usr/local/lib/python3.7/dist-packages/sklearn/base.py\u001b[0m in \u001b[0;36m_validate_data\u001b[0;34m(self, X, y, reset, validate_separately, **check_params)\u001b[0m\n\u001b[1;32m    554\u001b[0m         \u001b[0;32mif\u001b[0m \u001b[0my\u001b[0m \u001b[0;32mis\u001b[0m \u001b[0;32mNone\u001b[0m \u001b[0;32mand\u001b[0m \u001b[0mself\u001b[0m\u001b[0;34m.\u001b[0m\u001b[0m_get_tags\u001b[0m\u001b[0;34m(\u001b[0m\u001b[0;34m)\u001b[0m\u001b[0;34m[\u001b[0m\u001b[0;34m\"requires_y\"\u001b[0m\u001b[0;34m]\u001b[0m\u001b[0;34m:\u001b[0m\u001b[0;34m\u001b[0m\u001b[0;34m\u001b[0m\u001b[0m\n\u001b[1;32m    555\u001b[0m             raise ValueError(\n\u001b[0;32m--> 556\u001b[0;31m                 \u001b[0;34mf\"This {self.__class__.__name__} estimator \"\u001b[0m\u001b[0;34m\u001b[0m\u001b[0;34m\u001b[0m\u001b[0m\n\u001b[0m\u001b[1;32m    557\u001b[0m                 \u001b[0;34m\"requires y to be passed, but the target y is None.\"\u001b[0m\u001b[0;34m\u001b[0m\u001b[0;34m\u001b[0m\u001b[0m\n\u001b[1;32m    558\u001b[0m             )\n",
            "\u001b[0;31mValueError\u001b[0m: This RandomForestClassifier estimator requires y to be passed, but the target y is None."
          ]
        }
      ]
    }
  ]
}